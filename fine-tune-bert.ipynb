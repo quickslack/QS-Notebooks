{
 "cells": [
  {
   "cell_type": "code",
   "execution_count": 3,
   "metadata": {},
   "outputs": [
    {
     "name": "stdout",
     "output_type": "stream",
     "text": [
      "Beginning download of datasets\n",
      "Download stsbenchmark.zip\n",
      "Extract stsbenchmark.zip\n",
      "All datasets downloaded and extracted\n"
     ]
    }
   ],
   "source": [
    "import urllib.request\n",
    "import zipfile\n",
    "import os\n",
    "folder_path = '/notebooks/owen/QS-Notebooks'\n",
    "print('Beginning download of datasets')\n",
    "\n",
    "datasets = ['stsbenchmark.zip']\n",
    "server = \"https://public.ukp.informatik.tu-darmstadt.de/reimers/sentence-transformers/datasets/\"\n",
    "\n",
    "for dataset in datasets:\n",
    "    print(\"Download\", dataset)\n",
    "    url = server + dataset\n",
    "    dataset_path = os.path.join(folder_path, dataset)\n",
    "    urllib.request.urlretrieve(url, dataset_path)\n",
    "\n",
    "    print(\"Extract\", dataset)\n",
    "    with zipfile.ZipFile(dataset_path, \"r\") as zip_ref:\n",
    "        zip_ref.extractall(folder_path)\n",
    "    os.remove(dataset_path)\n",
    "\n",
    "\n",
    "print(\"All datasets downloaded and extracted\")"
   ]
  },
  {
   "cell_type": "code",
   "execution_count": 155,
   "metadata": {},
   "outputs": [],
   "source": [
    "import math\n",
    "from torch.utils.data import DataLoader\n",
    "from sentence_transformers import SentenceTransformer,  SentencesDataset, losses\n",
    "from sentence_transformers.evaluation import EmbeddingSimilarityEvaluator\n",
    "from sentence_transformers.readers import STSDataReader"
   ]
  },
  {
   "cell_type": "code",
   "execution_count": 156,
   "metadata": {},
   "outputs": [],
   "source": [
    "# Read the dataset\n",
    "model_name = 'distilbert-base-nli-stsb-mean-tokens'\n",
    "train_batch_size = 16\n",
    "num_epochs = 2\n",
    "model_save_path = 'test1'\n",
    "sts_reader = STSDataReader('/notebooks/owen/QS-Notebooks', normalize_scores=True)"
   ]
  },
  {
   "cell_type": "code",
   "execution_count": 157,
   "metadata": {},
   "outputs": [],
   "source": [
    "# Load a pre-trained sentence transformer model\n",
    "model = SentenceTransformer(model_name)"
   ]
  },
  {
   "cell_type": "code",
   "execution_count": 158,
   "metadata": {},
   "outputs": [
    {
     "data": {
      "text/html": [
       "<div>\n",
       "<style scoped>\n",
       "    .dataframe tbody tr th:only-of-type {\n",
       "        vertical-align: middle;\n",
       "    }\n",
       "\n",
       "    .dataframe tbody tr th {\n",
       "        vertical-align: top;\n",
       "    }\n",
       "\n",
       "    .dataframe thead th {\n",
       "        text-align: right;\n",
       "    }\n",
       "</style>\n",
       "<table border=\"1\" class=\"dataframe\">\n",
       "  <thead>\n",
       "    <tr style=\"text-align: right;\">\n",
       "      <th></th>\n",
       "      <th>a</th>\n",
       "      <th>b</th>\n",
       "      <th>c</th>\n",
       "      <th>d</th>\n",
       "      <th>e</th>\n",
       "      <th>title</th>\n",
       "      <th>reply</th>\n",
       "    </tr>\n",
       "  </thead>\n",
       "  <tbody>\n",
       "    <tr>\n",
       "      <th>0</th>\n",
       "      <td>NaN</td>\n",
       "      <td>NaN</td>\n",
       "      <td>NaN</td>\n",
       "      <td>NaN</td>\n",
       "      <td>1</td>\n",
       "      <td>(and other unicode characters) in identifiers...</td>\n",
       "      <td>This is a known bug in GCC: Bug 67224 - UTF-8 ...</td>\n",
       "    </tr>\n",
       "    <tr>\n",
       "      <th>1</th>\n",
       "      <td>NaN</td>\n",
       "      <td>NaN</td>\n",
       "      <td>NaN</td>\n",
       "      <td>NaN</td>\n",
       "      <td>1</td>\n",
       "      <td>500 Internal Server Error in ASP.NET MVC</td>\n",
       "      <td>I got more details of the error from windows e...</td>\n",
       "    </tr>\n",
       "    <tr>\n",
       "      <th>2</th>\n",
       "      <td>NaN</td>\n",
       "      <td>NaN</td>\n",
       "      <td>NaN</td>\n",
       "      <td>NaN</td>\n",
       "      <td>1</td>\n",
       "      <td>Cannot find yasm even though I have installed...</td>\n",
       "      <td>Just in case of someone got here from Google, ...</td>\n",
       "    </tr>\n",
       "    <tr>\n",
       "      <th>3</th>\n",
       "      <td>NaN</td>\n",
       "      <td>NaN</td>\n",
       "      <td>NaN</td>\n",
       "      <td>NaN</td>\n",
       "      <td>1</td>\n",
       "      <td>Embed Youtube videos :- with contains content...</td>\n",
       "      <td>You can use  while initializing youtube sdk:En...</td>\n",
       "    </tr>\n",
       "    <tr>\n",
       "      <th>4</th>\n",
       "      <td>NaN</td>\n",
       "      <td>NaN</td>\n",
       "      <td>NaN</td>\n",
       "      <td>NaN</td>\n",
       "      <td>1</td>\n",
       "      <td>Embed Youtube videos :- with contains content...</td>\n",
       "      <td>If you're embedding on a mobile app, you need ...</td>\n",
       "    </tr>\n",
       "  </tbody>\n",
       "</table>\n",
       "</div>"
      ],
      "text/plain": [
       "    a   b   c   d  e                                              title  \\\n",
       "0 NaN NaN NaN NaN  1   (and other unicode characters) in identifiers...   \n",
       "1 NaN NaN NaN NaN  1           500 Internal Server Error in ASP.NET MVC   \n",
       "2 NaN NaN NaN NaN  1   Cannot find yasm even though I have installed...   \n",
       "3 NaN NaN NaN NaN  1   Embed Youtube videos :- with contains content...   \n",
       "4 NaN NaN NaN NaN  1   Embed Youtube videos :- with contains content...   \n",
       "\n",
       "                                               reply  \n",
       "0  This is a known bug in GCC: Bug 67224 - UTF-8 ...  \n",
       "1  I got more details of the error from windows e...  \n",
       "2  Just in case of someone got here from Google, ...  \n",
       "3  You can use  while initializing youtube sdk:En...  \n",
       "4  If you're embedding on a mobile app, you need ...  "
      ]
     },
     "execution_count": 158,
     "metadata": {},
     "output_type": "execute_result"
    }
   ],
   "source": [
    "import pandas as pd\n",
    "df = pd.read_csv('SO_clean_5M.csv', sep='\\t', lineterminator='\\n')\n",
    "\n",
    "# Format columns.\n",
    "df = df[['title', 'reply']]\n",
    "df = df.reindex(columns=(list('abcde') + list(df)))\n",
    "df.e = 1\n",
    "df.head()\n",
    "\n",
    "# Generate some bad replies.\n",
    "df_bad_reply = df.copy()\n",
    "df_bad_reply = df_bad_reply.reply.shift(5)\n",
    "df_bad_reply = df_bad_reply.dropna()\n",
    "df_bad_reply.e = 0\n",
    "\n",
    "# Combine good and bad replies.\n",
    "df = df.append(df_bad_reply)\n",
    "df = df.reset_index(drop=True)"
   ]
  },
  {
   "cell_type": "code",
   "execution_count": 123,
   "metadata": {},
   "outputs": [],
   "source": [
    "# sample = df.sample(10000)\n",
    "# sample = sample.reset_index(drop=True, inplace=False)\n",
    "# sample.head()\n",
    "# print(sample.c_reply[4])"
   ]
  },
  {
   "cell_type": "code",
   "execution_count": 159,
   "metadata": {},
   "outputs": [
    {
     "data": {
      "text/plain": [
       "a        4928574\n",
       "b        4928574\n",
       "c        4928574\n",
       "d        4928574\n",
       "e              0\n",
       "title          0\n",
       "reply          0\n",
       "dtype: int64"
      ]
     },
     "execution_count": 159,
     "metadata": {},
     "output_type": "execute_result"
    }
   ],
   "source": [
    "# sample = sample.dropna(subset=['c_title', 'c_reply'])\n",
    "df = df.dropna(subset=['title', 'reply'])\n",
    "df.isna().sum()"
   ]
  },
  {
   "cell_type": "code",
   "execution_count": 160,
   "metadata": {},
   "outputs": [
    {
     "name": "stdout",
     "output_type": "stream",
     "text": [
      "CPU times: user 3.35 s, sys: 38.7 ms, total: 3.39 s\n",
      "Wall time: 3.39 s\n"
     ]
    }
   ],
   "source": [
    "%%time\n",
    "def no_nl(text):\n",
    "  return text.replace(\"\\n\", \"\")\n",
    "\n",
    "# sample.c_title = sample.c_title.apply(no_nl)\n",
    "# sample.c_reply = sample.c_reply.apply(no_nl)\n",
    "df.title = df.title.apply(no_nl)\n",
    "df.reply = df.reply.apply(no_nl)"
   ]
  },
  {
   "cell_type": "code",
   "execution_count": 161,
   "metadata": {},
   "outputs": [],
   "source": [
    "from sklearn.model_selection import train_test_split\n",
    "\n",
    "train, test = train_test_split(df, random_state=42)"
   ]
  },
  {
   "cell_type": "code",
   "execution_count": 162,
   "metadata": {},
   "outputs": [],
   "source": [
    "import csv\n",
    "\n",
    "# sample.to_csv('sample.csv', sep='\\t', header=False)\n",
    "train.to_csv('train.csv', sep='\\t', header=False)\n",
    "test.to_csv('test.csv', sep='\\t', header=False)\n",
    "\n",
    "for name in ['train', 'test']:\n",
    "    with open(f\"{name}.csv\", \"w\") as f:\n",
    "      csv_writer = csv.writer(f, delimiter=\"\\t\", quoting=csv.QUOTE_NONE)\n",
    "      for idx, row in sample.iterrows():\n",
    "        try:\n",
    "          csv_writer.writerow(row)\n",
    "        except:\n",
    "          pass"
   ]
  },
  {
   "cell_type": "code",
   "execution_count": 163,
   "metadata": {},
   "outputs": [
    {
     "name": "stdout",
     "output_type": "stream",
     "text": [
      "Read train dataset\n",
      "Read dev dataset\n",
      "CPU times: user 15.2 s, sys: 29.2 ms, total: 15.2 s\n",
      "Wall time: 15.2 s\n"
     ]
    }
   ],
   "source": [
    "%%time\n",
    "# Convert the dataset to a DataLoader ready for training\n",
    "print(\"Read train dataset\")\n",
    "train_data = SentencesDataset(sts_reader.get_examples('train.csv'), model)\n",
    "train_dataloader = DataLoader(train_data, shuffle=True, batch_size=train_batch_size)\n",
    "train_loss = losses.CosineSimilarityLoss(model=model)\n",
    "\n",
    "print(\"Read dev dataset\")\n",
    "dev_data = SentencesDataset(examples=sts_reader.get_examples('test.csv'), model=model)\n",
    "dev_dataloader = DataLoader(dev_data, shuffle=False, batch_size=train_batch_size)\n",
    "evaluator = EmbeddingSimilarityEvaluator(dev_dataloader)"
   ]
  },
  {
   "cell_type": "code",
   "execution_count": 164,
   "metadata": {},
   "outputs": [],
   "source": [
    "import os\n",
    "\n",
    "os.mkdir('test1')"
   ]
  },
  {
   "cell_type": "code",
   "execution_count": 165,
   "metadata": {},
   "outputs": [
    {
     "name": "stdout",
     "output_type": "stream",
     "text": [
      "CPU times: user 1min 21s, sys: 31.1 s, total: 1min 52s\n",
      "Wall time: 1min 52s\n"
     ]
    }
   ],
   "source": [
    "%%time\n",
    "%%capture\n",
    "\n",
    "# Configure the training. We skip evaluation in this example\n",
    "print(\"warming up...\")\n",
    "warmup_steps = math.ceil(len(train_dataloader)*num_epochs/train_batch_size*0.1) #10% of train data for warm-up\n",
    "\n",
    "print(\"training...\")\n",
    "# Train the model\n",
    "model.fit(train_objectives=[(train_dataloader, train_loss)],\n",
    "          evaluator=evaluator,\n",
    "          epochs=2,\n",
    "          evaluation_steps=1000,\n",
    "          warmup_steps=warmup_steps,\n",
    "          output_path=model_save_path)"
   ]
  },
  {
   "cell_type": "code",
   "execution_count": 166,
   "metadata": {},
   "outputs": [],
   "source": [
    "model.save(model_save_path)"
   ]
  },
  {
   "cell_type": "code",
   "execution_count": 167,
   "metadata": {},
   "outputs": [
    {
     "name": "stdout",
     "output_type": "stream",
     "text": [
      "CPU times: user 2.72 s, sys: 167 ms, total: 2.89 s\n",
      "Wall time: 2.48 s\n"
     ]
    },
    {
     "data": {
      "text/plain": [
       "0.4786749937338934"
      ]
     },
     "execution_count": 167,
     "metadata": {},
     "output_type": "execute_result"
    }
   ],
   "source": [
    "%%time\n",
    "# Load the stored model and evaluate its performance on STS benchmark dataset\n",
    "model = SentenceTransformer(model_save_path)\n",
    "test_data = SentencesDataset(examples=sts_reader.get_examples(\"stsbenchmark/sts-test.csv\"), model=model)\n",
    "test_dataloader = DataLoader(test_data, shuffle=False, batch_size=train_batch_size)\n",
    "evaluator = EmbeddingSimilarityEvaluator(test_dataloader)\n",
    "model.evaluate(evaluator)"
   ]
  },
  {
   "cell_type": "code",
   "execution_count": null,
   "metadata": {},
   "outputs": [],
   "source": [
    "# !tar -zcvf model_stuff.tar.gz /content/output/test1"
   ]
  },
  {
   "cell_type": "code",
   "execution_count": null,
   "metadata": {},
   "outputs": [],
   "source": [
    "# tried 10k w/ no_code1 epochs: 2,4 acc: ~0.22\n",
    "# tried 10k w/ no_code2 epochs: 2,4 acc: ~0.28\n",
    "# tried 10k w/ no_code2 w/ no small reply epochs: 2,4 acc: ~0.29\n",
    "# tried 65k w/ no_code2 & no small reply epochs: 2,4 acc: ~0.21\n",
    "# tried 65k w/ a train/test set lol, no_code2, no small reply, & epochs=2: acc: ~0.18\n",
    "\n",
    "# tried w/ 5M, epochs=2\n",
    "\n",
    "\n",
    "\n",
    "# try with half bad examples too"
   ]
  }
 ],
 "metadata": {
  "kernelspec": {
   "display_name": "Python 3",
   "language": "python",
   "name": "python3"
  },
  "language_info": {
   "codemirror_mode": {
    "name": "ipython",
    "version": 3
   },
   "file_extension": ".py",
   "mimetype": "text/x-python",
   "name": "python",
   "nbconvert_exporter": "python",
   "pygments_lexer": "ipython3",
   "version": "3.6.9"
  }
 },
 "nbformat": 4,
 "nbformat_minor": 4
}
