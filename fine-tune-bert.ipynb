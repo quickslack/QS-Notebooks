{
 "cells": [
  {
   "cell_type": "code",
   "execution_count": 3,
   "metadata": {},
   "outputs": [
    {
     "name": "stdout",
     "output_type": "stream",
     "text": [
      "Beginning download of datasets\n",
      "Download stsbenchmark.zip\n",
      "Extract stsbenchmark.zip\n",
      "All datasets downloaded and extracted\n"
     ]
    }
   ],
   "source": [
    "import urllib.request\n",
    "import zipfile\n",
    "import os\n",
    "folder_path = '/notebooks/owen/QS-Notebooks'\n",
    "print('Beginning download of datasets')\n",
    "\n",
    "datasets = ['stsbenchmark.zip']\n",
    "server = \"https://public.ukp.informatik.tu-darmstadt.de/reimers/sentence-transformers/datasets/\"\n",
    "\n",
    "for dataset in datasets:\n",
    "    print(\"Download\", dataset)\n",
    "    url = server + dataset\n",
    "    dataset_path = os.path.join(folder_path, dataset)\n",
    "    urllib.request.urlretrieve(url, dataset_path)\n",
    "\n",
    "    print(\"Extract\", dataset)\n",
    "    with zipfile.ZipFile(dataset_path, \"r\") as zip_ref:\n",
    "        zip_ref.extractall(folder_path)\n",
    "    os.remove(dataset_path)\n",
    "\n",
    "\n",
    "print(\"All datasets downloaded and extracted\")"
   ]
  },
  {
   "cell_type": "code",
   "execution_count": 4,
   "metadata": {},
   "outputs": [],
   "source": [
    "import math\n",
    "from torch.utils.data import DataLoader\n",
    "from sentence_transformers import SentenceTransformer,  SentencesDataset, losses\n",
    "from sentence_transformers.evaluation import EmbeddingSimilarityEvaluator\n",
    "from sentence_transformers.readers import STSDataReader"
   ]
  },
  {
   "cell_type": "code",
   "execution_count": 5,
   "metadata": {},
   "outputs": [],
   "source": [
    "# Read the dataset\n",
    "model_name = 'distilbert-base-nli-stsb-mean-tokens'\n",
    "train_batch_size = 16\n",
    "num_epochs = 2\n",
    "model_save_path = '/notebooks/owen/QS-Notebooks'\n",
    "sts_reader = STSDataReader('owen/QS-Notebooks/stsbenchmark', normalize_scores=True)"
   ]
  },
  {
   "cell_type": "code",
   "execution_count": 6,
   "metadata": {},
   "outputs": [
    {
     "name": "stderr",
     "output_type": "stream",
     "text": [
      "100%|██████████| 245M/245M [00:29<00:00, 8.43MB/s] \n"
     ]
    }
   ],
   "source": [
    "# Load a pre-trained sentence transformer model\n",
    "model = SentenceTransformer(model_name)"
   ]
  },
  {
   "cell_type": "code",
   "execution_count": 7,
   "metadata": {},
   "outputs": [],
   "source": [
    "import pandas as pd\n",
    "df = pd.read_csv('SO_clean_50k.csv')"
   ]
  },
  {
   "cell_type": "code",
   "execution_count": 8,
   "metadata": {},
   "outputs": [
    {
     "data": {
      "text/html": [
       "<div>\n",
       "<style scoped>\n",
       "    .dataframe tbody tr th:only-of-type {\n",
       "        vertical-align: middle;\n",
       "    }\n",
       "\n",
       "    .dataframe tbody tr th {\n",
       "        vertical-align: top;\n",
       "    }\n",
       "\n",
       "    .dataframe thead th {\n",
       "        text-align: right;\n",
       "    }\n",
       "</style>\n",
       "<table border=\"1\" class=\"dataframe\">\n",
       "  <thead>\n",
       "    <tr style=\"text-align: right;\">\n",
       "      <th></th>\n",
       "      <th>Unnamed: 0</th>\n",
       "      <th>score</th>\n",
       "      <th>parent_id</th>\n",
       "      <th>c_title</th>\n",
       "      <th>c_reply</th>\n",
       "    </tr>\n",
       "  </thead>\n",
       "  <tbody>\n",
       "    <tr>\n",
       "      <th>0</th>\n",
       "      <td>0</td>\n",
       "      <td>8</td>\n",
       "      <td>12692067</td>\n",
       "      <td>(and other unicode characters) in identifiers...</td>\n",
       "      <td>This is a known bug in GCC: Bug 67224 - UTF-8 ...</td>\n",
       "    </tr>\n",
       "    <tr>\n",
       "      <th>1</th>\n",
       "      <td>1</td>\n",
       "      <td>2</td>\n",
       "      <td>2996139</td>\n",
       "      <td>500 Internal Server Error in ASP.NET MVC</td>\n",
       "      <td>I got more details of the error from windows e...</td>\n",
       "    </tr>\n",
       "  </tbody>\n",
       "</table>\n",
       "</div>"
      ],
      "text/plain": [
       "   Unnamed: 0  score  parent_id  \\\n",
       "0           0      8   12692067   \n",
       "1           1      2    2996139   \n",
       "\n",
       "                                             c_title  \\\n",
       "0   (and other unicode characters) in identifiers...   \n",
       "1           500 Internal Server Error in ASP.NET MVC   \n",
       "\n",
       "                                             c_reply  \n",
       "0  This is a known bug in GCC: Bug 67224 - UTF-8 ...  \n",
       "1  I got more details of the error from windows e...  "
      ]
     },
     "execution_count": 8,
     "metadata": {},
     "output_type": "execute_result"
    }
   ],
   "source": [
    "df.head(2)"
   ]
  },
  {
   "cell_type": "code",
   "execution_count": null,
   "metadata": {},
   "outputs": [],
   "source": [
    "df = df.drop(df.columns[0], axis=1)"
   ]
  },
  {
   "cell_type": "code",
   "execution_count": null,
   "metadata": {},
   "outputs": [],
   "source": [
    "sample = df.sample(10000)\n",
    "sample = sample.reset_index(drop=True, inplace=False)\n",
    "sample.head()"
   ]
  },
  {
   "cell_type": "code",
   "execution_count": null,
   "metadata": {},
   "outputs": [],
   "source": [
    "sample[5] = sample[5].astype(int)"
   ]
  },
  {
   "cell_type": "code",
   "execution_count": null,
   "metadata": {},
   "outputs": [],
   "source": [
    "%%time\n",
    "def no_nl(text):\n",
    "  return text.replace(\"\\n\", \"\")\n",
    "\n",
    "sample[6] = sample[6].apply(no_nl)\n",
    "sample[7] = sample[7].apply(no_nl)"
   ]
  },
  {
   "cell_type": "code",
   "execution_count": null,
   "metadata": {},
   "outputs": [],
   "source": [
    "import csv\n",
    "# sample.to_csv('sample.csv', sep='\\t', header=False)\n",
    "with open(\"sample.csv\", \"w\") as f:\n",
    "  csv_writer = csv.writer(f, delimiter=\"\\t\", quoting=csv.QUOTE_NONE)\n",
    "  for idx, row in sample.iterrows():\n",
    "    try:\n",
    "      csv_writer.writerow(row)\n",
    "    except:\n",
    "      pass"
   ]
  },
  {
   "cell_type": "code",
   "execution_count": null,
   "metadata": {},
   "outputs": [],
   "source": [
    "%%time\n",
    "# Convert the dataset to a DataLoader ready for training\n",
    "print(\"Read STSbenchmark train dataset\")\n",
    "train_data = SentencesDataset(sts_reader.get_examples('/content/sample.csv'), model)\n",
    "train_dataloader = DataLoader(train_data, shuffle=True, batch_size=train_batch_size)\n",
    "# train_dataloader = DataLoader(train, shuffle=True, batch_size=train_batch_size)\n",
    "train_loss = losses.CosineSimilarityLoss(model=model)\n",
    "\n",
    "\n",
    "print(\"Read STSbenchmark dev dataset\")\n",
    "dev_data = SentencesDataset(examples=sts_reader.get_examples('/content/sample.csv'), model=model)\n",
    "dev_dataloader = DataLoader(dev_data, shuffle=False, batch_size=train_batch_size)\n",
    "# dev_dataloader = DataLoader(test, shuffle=False, batch_size=train_batch_size)\n",
    "evaluator = EmbeddingSimilarityEvaluator(dev_dataloader)"
   ]
  },
  {
   "cell_type": "code",
   "execution_count": null,
   "metadata": {},
   "outputs": [],
   "source": [
    "%%time\n",
    "%%capture\n",
    "# Configure the training. We skip evaluation in this example\n",
    "print(\"warming up...\")\n",
    "warmup_steps = math.ceil(len(train_dataloader)*num_epochs/train_batch_size*0.1) #10% of train data for warm-up\n",
    "\n",
    "print(\"training...\")\n",
    "# Train the model\n",
    "model.fit(train_objectives=[(train_dataloader, train_loss)],\n",
    "          evaluator=evaluator,\n",
    "          epochs=num_epochs,\n",
    "          evaluation_steps=1000,\n",
    "          warmup_steps=warmup_steps,\n",
    "          output_path=model_save_path)"
   ]
  },
  {
   "cell_type": "code",
   "execution_count": null,
   "metadata": {},
   "outputs": [],
   "source": [
    "# Load the stored model and evaluate its performance on STS benchmark dataset\n",
    "model = SentenceTransformer(model_save_path)\n",
    "test_data = SentencesDataset(examples=sts_reader.get_examples(\"sts-test.csv\"), model=model)\n",
    "test_dataloader = DataLoader(test_data, shuffle=False, batch_size=train_batch_size)\n",
    "evaluator = EmbeddingSimilarityEvaluator(test_dataloader)\n",
    "model.evaluate(evaluator)"
   ]
  },
  {
   "cell_type": "code",
   "execution_count": null,
   "metadata": {},
   "outputs": [],
   "source": [
    "# !tar -zcvf model_stuff.tar.gz /content/output/test1"
   ]
  }
 ],
 "metadata": {
  "kernelspec": {
   "display_name": "Python 3",
   "language": "python",
   "name": "python3"
  },
  "language_info": {
   "codemirror_mode": {
    "name": "ipython",
    "version": 3
   },
   "file_extension": ".py",
   "mimetype": "text/x-python",
   "name": "python",
   "nbconvert_exporter": "python",
   "pygments_lexer": "ipython3",
   "version": "3.6.9"
  }
 },
 "nbformat": 4,
 "nbformat_minor": 4
}
