{
 "cells": [
  {
   "cell_type": "code",
   "execution_count": 119,
   "metadata": {},
   "outputs": [
    {
     "data": {
      "text/plain": [
       "(8802534, 20)"
      ]
     },
     "execution_count": 119,
     "metadata": {},
     "output_type": "execute_result"
    }
   ],
   "source": [
    "import pandas as pd\n",
    "df = pd.read_csv('SO.csv')\n",
    "df.shape"
   ]
  },
  {
   "cell_type": "code",
   "execution_count": 120,
   "metadata": {},
   "outputs": [
    {
     "data": {
      "text/plain": [
       "Index(['Unnamed: 0', 'Id', 'PostTypeId', 'ParentId', 'AcceptedAnswerId',\n",
       "       'CreationDate', 'Score', 'ViewCount', 'Body', 'OwnerUserId',\n",
       "       'LastEditorUserId', 'LastEditorDisplayName', 'LastEditDate',\n",
       "       'LastActivityDate', 'Title', 'Tags', 'AnswerCount', 'CommentCount',\n",
       "       'FavoriteCount', 'CommunityOwnedDate'],\n",
       "      dtype='object')"
      ]
     },
     "execution_count": 120,
     "metadata": {},
     "output_type": "execute_result"
    }
   ],
   "source": [
    "df.columns"
   ]
  },
  {
   "cell_type": "code",
   "execution_count": 121,
   "metadata": {},
   "outputs": [
    {
     "data": {
      "text/plain": [
       "((5611841, 20), (3190693, 20))"
      ]
     },
     "execution_count": 121,
     "metadata": {},
     "output_type": "execute_result"
    }
   ],
   "source": [
    "mask = df.ParentId.isna()\n",
    "posts = df[mask]\n",
    "replies = df[~mask]\n",
    "posts.Id = posts.Id.astype(float)\n",
    "assert type(posts.Id.iloc[0]) == type(replies.ParentId.iloc[0])\n",
    "replies.shape, posts.shape"
   ]
  },
  {
   "cell_type": "code",
   "execution_count": 130,
   "metadata": {},
   "outputs": [],
   "source": [
    "# replies.Title = [posts.Title.loc[posts.Id == i] for i in replies.ParentId]"
   ]
  },
  {
   "cell_type": "code",
   "execution_count": null,
   "metadata": {},
   "outputs": [],
   "source": [
    "replies.Title = [posts.Title.loc[posts.Id == i] for i in replies.ParentId.values]"
   ]
  },
  {
   "cell_type": "code",
   "execution_count": 153,
   "metadata": {},
   "outputs": [],
   "source": [
    "import numpy as np\n",
    "\n",
    "def in1d_approach(a,b):\n",
    "    dims = np.maximum(b.max(0),a.max(0))+1\n",
    "    return a[np.in1d(np.ravel_multi_index(a.T,dims),np.ravel_multi_index(b.T,dims))]"
   ]
  },
  {
   "cell_type": "code",
   "execution_count": 157,
   "metadata": {},
   "outputs": [
    {
     "name": "stdout",
     "output_type": "stream",
     "text": [
      "(2, 3)\n",
      "CPU times: user 637 µs, sys: 48 µs, total: 685 µs\n",
      "Wall time: 494 µs\n"
     ]
    },
    {
     "data": {
      "text/plain": [
       "array([[1, 1, 1],\n",
       "       [1, 1, 4]])"
      ]
     },
     "execution_count": 157,
     "metadata": {},
     "output_type": "execute_result"
    }
   ],
   "source": [
    "%%time\n",
    "vec1 = np.array([[1, 1, 1],[1, 1, 2],[1, 1, 3],[1, 1, 4]])\n",
    "vec2 = np.array([[1, 1, 4], [0, 0, 0],[1, 0, 2],[1, 0, 3],[1, 0, 4],[1, 1, 0],[1, 1, 1]])\n",
    "# returns array([[1, 1, 1],[1, 1, 4]])\n",
    "# vec1 = np.array([replies.ParentId.values, [1, 2]])\n",
    "# vec1 = np.array([posts.Id.values, [1, 2]])\n",
    "print((in1d_approach(vec1, vec2)).shape)\n",
    "in1d_approach(vec1, vec2)"
   ]
  },
  {
   "cell_type": "code",
   "execution_count": 149,
   "metadata": {},
   "outputs": [
    {
     "data": {
      "text/plain": [
       "(5611841,)"
      ]
     },
     "execution_count": 149,
     "metadata": {},
     "output_type": "execute_result"
    }
   ],
   "source": [
    "replies.ParentId.values.shape"
   ]
  },
  {
   "cell_type": "code",
   "execution_count": null,
   "metadata": {},
   "outputs": [],
   "source": [
    "# len([i for i in list(replies.ParentId) if i in list(posts.Id)])\n",
    "# replies.Title = posts.Title[posts.Id == replies.ParentId]\n",
    "# replies.shape"
   ]
  }
 ],
 "metadata": {
  "kernelspec": {
   "display_name": "Python 3",
   "language": "python",
   "name": "python3"
  },
  "language_info": {
   "codemirror_mode": {
    "name": "ipython",
    "version": 3
   },
   "file_extension": ".py",
   "mimetype": "text/x-python",
   "name": "python",
   "nbconvert_exporter": "python",
   "pygments_lexer": "ipython3",
   "version": "3.6.9"
  }
 },
 "nbformat": 4,
 "nbformat_minor": 4
}
