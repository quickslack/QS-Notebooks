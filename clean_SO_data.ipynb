{
 "cells": [
  {
   "cell_type": "code",
   "execution_count": 164,
   "metadata": {},
   "outputs": [
    {
     "data": {
      "text/plain": [
       "(100000, 6)"
      ]
     },
     "execution_count": 164,
     "metadata": {},
     "output_type": "execute_result"
    }
   ],
   "source": [
    "import pandas as pd\n",
    "df = pd.read_csv('SO.csv')\n",
    "df.shape"
   ]
  },
  {
   "cell_type": "code",
   "execution_count": 167,
   "metadata": {},
   "outputs": [
    {
     "data": {
      "text/plain": [
       "Index(['Unnamed: 0', 'date', 'parent_id', 'score', 'title', 'reply'], dtype='object')"
      ]
     },
     "execution_count": 167,
     "metadata": {},
     "output_type": "execute_result"
    }
   ],
   "source": [
    "df.columns"
   ]
  },
  {
   "cell_type": "code",
   "execution_count": 168,
   "metadata": {},
   "outputs": [
    {
     "data": {
      "text/html": [
       "<div>\n",
       "<style scoped>\n",
       "    .dataframe tbody tr th:only-of-type {\n",
       "        vertical-align: middle;\n",
       "    }\n",
       "\n",
       "    .dataframe tbody tr th {\n",
       "        vertical-align: top;\n",
       "    }\n",
       "\n",
       "    .dataframe thead th {\n",
       "        text-align: right;\n",
       "    }\n",
       "</style>\n",
       "<table border=\"1\" class=\"dataframe\">\n",
       "  <thead>\n",
       "    <tr style=\"text-align: right;\">\n",
       "      <th></th>\n",
       "      <th>Unnamed: 0</th>\n",
       "      <th>parent_id</th>\n",
       "      <th>score</th>\n",
       "    </tr>\n",
       "  </thead>\n",
       "  <tbody>\n",
       "    <tr>\n",
       "      <th>count</th>\n",
       "      <td>100000.000000</td>\n",
       "      <td>1.000000e+05</td>\n",
       "      <td>100000.000000</td>\n",
       "    </tr>\n",
       "    <tr>\n",
       "      <th>mean</th>\n",
       "      <td>49999.500000</td>\n",
       "      <td>4.332477e+07</td>\n",
       "      <td>3.115090</td>\n",
       "    </tr>\n",
       "    <tr>\n",
       "      <th>std</th>\n",
       "      <td>28867.657797</td>\n",
       "      <td>1.076145e+07</td>\n",
       "      <td>9.590634</td>\n",
       "    </tr>\n",
       "    <tr>\n",
       "      <th>min</th>\n",
       "      <td>0.000000</td>\n",
       "      <td>8.050000e+02</td>\n",
       "      <td>1.000000</td>\n",
       "    </tr>\n",
       "    <tr>\n",
       "      <th>25%</th>\n",
       "      <td>24999.750000</td>\n",
       "      <td>3.813724e+07</td>\n",
       "      <td>1.000000</td>\n",
       "    </tr>\n",
       "    <tr>\n",
       "      <th>50%</th>\n",
       "      <td>49999.500000</td>\n",
       "      <td>4.431855e+07</td>\n",
       "      <td>1.000000</td>\n",
       "    </tr>\n",
       "    <tr>\n",
       "      <th>75%</th>\n",
       "      <td>74999.250000</td>\n",
       "      <td>5.097837e+07</td>\n",
       "      <td>3.000000</td>\n",
       "    </tr>\n",
       "    <tr>\n",
       "      <th>max</th>\n",
       "      <td>99999.000000</td>\n",
       "      <td>5.912274e+07</td>\n",
       "      <td>720.000000</td>\n",
       "    </tr>\n",
       "  </tbody>\n",
       "</table>\n",
       "</div>"
      ],
      "text/plain": [
       "          Unnamed: 0     parent_id          score\n",
       "count  100000.000000  1.000000e+05  100000.000000\n",
       "mean    49999.500000  4.332477e+07       3.115090\n",
       "std     28867.657797  1.076145e+07       9.590634\n",
       "min         0.000000  8.050000e+02       1.000000\n",
       "25%     24999.750000  3.813724e+07       1.000000\n",
       "50%     49999.500000  4.431855e+07       1.000000\n",
       "75%     74999.250000  5.097837e+07       3.000000\n",
       "max     99999.000000  5.912274e+07     720.000000"
      ]
     },
     "execution_count": 168,
     "metadata": {},
     "output_type": "execute_result"
    }
   ],
   "source": [
    "df.describe()"
   ]
  },
  {
   "cell_type": "code",
   "execution_count": null,
   "metadata": {},
   "outputs": [],
   "source": [
    "# Drop questions and answers w/ scores less than 1.\n",
    "q_df = q_df[q_df.Score > 0]\n",
    "a_df = a_df[a_df.Score > 0]\n",
    "\n",
    "def no_code(text):\n",
    "  '''Cleans code and html tags.'''\n",
    "  text = re.sub('<pre>.*?</pre>', '', text, flags=re.DOTALL)\n",
    "  text = re.sub('<code>.*?</code>', '', text, flags=re.DOTALL)\n",
    "  text = re.sub('<[^>]+>', '', text, flags=re.DOTALL)\n",
    "  return text.replace(\"\\n\", \"\")\n",
    "\n",
    "# Get rid of code and html tags from questions and answers.\n",
    "q_df['Body'] = q_df.Body.apply(no_code)\n",
    "a_df['Body'] = a_df.Body.apply(no_code)\n",
    "\n",
    "# Drop questions and answers longer than 512 characters.\n",
    "q_df = q_df.loc[q_df['Title'].str.len() < 511]\n",
    "a_df = a_df.loc[a_df['Body'].str.len() < 511]\n",
    "\n",
    "# Drop the answers that don't have a parent question.\n",
    "a_df = a_df.loc[a_df.ParentId.isin(q_df.Id)]\n",
    "\n",
    "q_df.shape, a_df.shape"
   ]
  },
  {
   "cell_type": "code",
   "execution_count": null,
   "metadata": {},
   "outputs": [],
   "source": [
    "def clean_series(text):\n",
    "    '''Clean html, new_line, nbsp from text'''\n",
    "\n",
    "    # Series to return to work with pandas dfs easily\n",
    "    new = pd.Series()\n",
    "    \n",
    "    # Things to replace\n",
    "    html = re.compile('<.*?>')\n",
    "    next_line = re.compile('\\n')\n",
    "    nbsp = re.compile('&nbsp')\n",
    "    back_r = re.compile('\\r')\n",
    "    amp = re.compile('&amp')\n",
    "    gt = re.compile('&gt')\n",
    "    lt = re.compile('&lt')\n",
    "    \n",
    "    # Replacement steps\n",
    "    new = re.sub(html, '', text)\n",
    "    new = re.sub(next_line, ' ', new)\n",
    "    new = re.sub(nbsp, ' ', new)\n",
    "    new = re.sub(back_r, '', new)\n",
    "    new = re.sub(amp, '', new)\n",
    "    new = re.sub(gt, '', new)\n",
    "    new = re.sub(lt, '', new)\n",
    "\n",
    "    # Return cleaned series\n",
    "    return new"
   ]
  }
 ],
 "metadata": {
  "kernelspec": {
   "display_name": "Python 3",
   "language": "python",
   "name": "python3"
  },
  "language_info": {
   "codemirror_mode": {
    "name": "ipython",
    "version": 3
   },
   "file_extension": ".py",
   "mimetype": "text/x-python",
   "name": "python",
   "nbconvert_exporter": "python",
   "pygments_lexer": "ipython3",
   "version": "3.6.9"
  }
 },
 "nbformat": 4,
 "nbformat_minor": 4
}
