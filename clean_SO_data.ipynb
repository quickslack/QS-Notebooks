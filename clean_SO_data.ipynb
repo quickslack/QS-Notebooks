{
 "cells": [
  {
   "cell_type": "code",
   "execution_count": null,
   "metadata": {},
   "outputs": [],
   "source": [
    "import pandas as pd\n",
    "import re\n",
    "from multiprocessing import Pool\n",
    "\n",
    "df = pd.read_csv('SO.csv')\n",
    "df = df[['date', 'parent_id', 'score', 'title', 'reply']]\n",
    "df.shape"
   ]
  },
  {
   "cell_type": "code",
   "execution_count": 57,
   "metadata": {},
   "outputs": [],
   "source": [
    "needs_space = re.compile('\\n|&nbsp')\n",
    "no_space = re.compile('<.*?>|\\r|&amp|&gt|&lt')\n",
    "\n",
    "def no_code1(text):\n",
    "    '''Remove html, new_line, nbsp from text'''\n",
    "    text = re.sub(needs_space, ' ', text)\n",
    "    text = re.sub(no_space, '', text)\n",
    "    return text\n",
    "\n",
    "def no_code2(text):\n",
    "    '''Cleans code and html tags.'''\n",
    "    text = re.sub('<pre>.*?</pre>', '', text, flags=re.DOTALL)\n",
    "    text = re.sub('<code>.*?</code>', '', text, flags=re.DOTALL)\n",
    "    text = re.sub('<[^>]+>', '', text, flags=re.DOTALL)\n",
    "    return text.replace(\"\\n\", \"\")\n",
    "\n",
    "def no_short_reply(text):\n",
    "    if len(text) < 30:\n",
    "        text = None\n",
    "    return text\n",
    "\n",
    "def cleaner(series):\n",
    "#     series = series.apply(no_code1)\n",
    "    series = series.apply(no_code2)\n",
    "    series = series.apply(no_short_reply)\n",
    "    return series\n",
    "\n",
    "def fast_clean(df):\n",
    "    names = list(df)\n",
    "    cleaned = []\n",
    "    for name in names:\n",
    "        if name in ('title', 'reply'):\n",
    "            with Pool(8) as p:\n",
    "                seq = [df[name]]\n",
    "                lis = p.map(cleaner, seq)\n",
    "                for s in lis:\n",
    "                    cleaned.append(pd.Series(s))\n",
    "                \n",
    "    return cleaned[0], cleaned[1]"
   ]
  },
  {
   "cell_type": "code",
   "execution_count": 58,
   "metadata": {},
   "outputs": [
    {
     "name": "stdout",
     "output_type": "stream",
     "text": [
      "(100000, 7)\n",
      "CPU times: user 160 ms, sys: 408 ms, total: 568 ms\n",
      "Wall time: 2.38 s\n"
     ]
    },
    {
     "data": {
      "text/html": [
       "<div>\n",
       "<style scoped>\n",
       "    .dataframe tbody tr th:only-of-type {\n",
       "        vertical-align: middle;\n",
       "    }\n",
       "\n",
       "    .dataframe tbody tr th {\n",
       "        vertical-align: top;\n",
       "    }\n",
       "\n",
       "    .dataframe thead th {\n",
       "        text-align: right;\n",
       "    }\n",
       "</style>\n",
       "<table border=\"1\" class=\"dataframe\">\n",
       "  <thead>\n",
       "    <tr style=\"text-align: right;\">\n",
       "      <th></th>\n",
       "      <th>date</th>\n",
       "      <th>parent_id</th>\n",
       "      <th>score</th>\n",
       "      <th>title</th>\n",
       "      <th>reply</th>\n",
       "      <th>c_title</th>\n",
       "      <th>c_reply</th>\n",
       "    </tr>\n",
       "  </thead>\n",
       "  <tbody>\n",
       "    <tr>\n",
       "      <th>0</th>\n",
       "      <td>2017-02-10T11:47:29.810</td>\n",
       "      <td>12692067</td>\n",
       "      <td>8</td>\n",
       "      <td>(and other unicode characters) in identifiers...</td>\n",
       "      <td>&lt;p&gt;This is a known bug in GCC: &lt;a href=\"https:...</td>\n",
       "      <td>(and other unicode characters) in identifiers...</td>\n",
       "      <td>This is a known bug in GCC: Bug 67224 - UTF-8 ...</td>\n",
       "    </tr>\n",
       "    <tr>\n",
       "      <th>1</th>\n",
       "      <td>2017-01-12T05:34:57.210</td>\n",
       "      <td>2996139</td>\n",
       "      <td>2</td>\n",
       "      <td>500 Internal Server Error in ASP.NET MVC</td>\n",
       "      <td>&lt;p&gt;I got more details of the error from window...</td>\n",
       "      <td>500 Internal Server Error in ASP.NET MVC</td>\n",
       "      <td>I got more details of the error from windows e...</td>\n",
       "    </tr>\n",
       "    <tr>\n",
       "      <th>2</th>\n",
       "      <td>2017-07-20T14:30:21.050</td>\n",
       "      <td>10492178</td>\n",
       "      <td>10</td>\n",
       "      <td>Cannot find yasm even though I have installed...</td>\n",
       "      <td>&lt;p&gt;Just in case of someone got here from Googl...</td>\n",
       "      <td>Cannot find yasm even though I have installed...</td>\n",
       "      <td>Just in case of someone got here from Google, ...</td>\n",
       "    </tr>\n",
       "    <tr>\n",
       "      <th>3</th>\n",
       "      <td>2016-04-03T10:37:21.017</td>\n",
       "      <td>12430337</td>\n",
       "      <td>8</td>\n",
       "      <td>Embed Youtube videos :- with contains content...</td>\n",
       "      <td>&lt;p&gt;You can use &lt;code&gt;player vars&lt;/code&gt; while ...</td>\n",
       "      <td>Embed Youtube videos :- with contains content...</td>\n",
       "      <td>You can use  while initializing youtube sdk:En...</td>\n",
       "    </tr>\n",
       "    <tr>\n",
       "      <th>4</th>\n",
       "      <td>2016-09-22T22:59:37.590</td>\n",
       "      <td>12430337</td>\n",
       "      <td>2</td>\n",
       "      <td>Embed Youtube videos :- with contains content...</td>\n",
       "      <td>&lt;p&gt;If you're embedding on a mobile app, you ne...</td>\n",
       "      <td>Embed Youtube videos :- with contains content...</td>\n",
       "      <td>If you're embedding on a mobile app, you need ...</td>\n",
       "    </tr>\n",
       "  </tbody>\n",
       "</table>\n",
       "</div>"
      ],
      "text/plain": [
       "                      date  parent_id  score  \\\n",
       "0  2017-02-10T11:47:29.810   12692067      8   \n",
       "1  2017-01-12T05:34:57.210    2996139      2   \n",
       "2  2017-07-20T14:30:21.050   10492178     10   \n",
       "3  2016-04-03T10:37:21.017   12430337      8   \n",
       "4  2016-09-22T22:59:37.590   12430337      2   \n",
       "\n",
       "                                               title  \\\n",
       "0   (and other unicode characters) in identifiers...   \n",
       "1           500 Internal Server Error in ASP.NET MVC   \n",
       "2   Cannot find yasm even though I have installed...   \n",
       "3   Embed Youtube videos :- with contains content...   \n",
       "4   Embed Youtube videos :- with contains content...   \n",
       "\n",
       "                                               reply  \\\n",
       "0  <p>This is a known bug in GCC: <a href=\"https:...   \n",
       "1  <p>I got more details of the error from window...   \n",
       "2  <p>Just in case of someone got here from Googl...   \n",
       "3  <p>You can use <code>player vars</code> while ...   \n",
       "4  <p>If you're embedding on a mobile app, you ne...   \n",
       "\n",
       "                                             c_title  \\\n",
       "0   (and other unicode characters) in identifiers...   \n",
       "1           500 Internal Server Error in ASP.NET MVC   \n",
       "2   Cannot find yasm even though I have installed...   \n",
       "3   Embed Youtube videos :- with contains content...   \n",
       "4   Embed Youtube videos :- with contains content...   \n",
       "\n",
       "                                             c_reply  \n",
       "0  This is a known bug in GCC: Bug 67224 - UTF-8 ...  \n",
       "1  I got more details of the error from windows e...  \n",
       "2  Just in case of someone got here from Google, ...  \n",
       "3  You can use  while initializing youtube sdk:En...  \n",
       "4  If you're embedding on a mobile app, you need ...  "
      ]
     },
     "execution_count": 58,
     "metadata": {},
     "output_type": "execute_result"
    }
   ],
   "source": [
    "%%time\n",
    "df['c_title'], df['c_reply'] = fast_clean(df)\n",
    "print(df.shape)\n",
    "df.head()"
   ]
  },
  {
   "cell_type": "code",
   "execution_count": 59,
   "metadata": {},
   "outputs": [
    {
     "name": "stdout",
     "output_type": "stream",
     "text": [
      "CPU times: user 167 ms, sys: 7.15 ms, total: 174 ms\n",
      "Wall time: 173 ms\n"
     ]
    },
    {
     "data": {
      "text/plain": [
       "(65823, 7)"
      ]
     },
     "execution_count": 59,
     "metadata": {},
     "output_type": "execute_result"
    }
   ],
   "source": [
    "%%time\n",
    "# Drop questions and answers longer than 510 characters.\n",
    "df = df.loc[df['c_title'].str.len() < 511]\n",
    "df = df.loc[df['c_reply'].str.len() < 511]\n",
    "\n",
    "# Drop nans and reset index.\n",
    "df = df.dropna()\n",
    "df = df.reset_index(drop=True)\n",
    "df.shape"
   ]
  },
  {
   "cell_type": "code",
   "execution_count": 60,
   "metadata": {},
   "outputs": [],
   "source": [
    "df = df[['score', 'parent_id', 'c_title', 'c_reply']]\n",
    "df.to_csv('SO_clean_65k.csv', sep='\\t')"
   ]
  },
  {
   "cell_type": "code",
   "execution_count": null,
   "metadata": {},
   "outputs": [],
   "source": []
  }
 ],
 "metadata": {
  "kernelspec": {
   "display_name": "Python 3",
   "language": "python",
   "name": "python3"
  },
  "language_info": {
   "codemirror_mode": {
    "name": "ipython",
    "version": 3
   },
   "file_extension": ".py",
   "mimetype": "text/x-python",
   "name": "python",
   "nbconvert_exporter": "python",
   "pygments_lexer": "ipython3",
   "version": "3.6.9"
  }
 },
 "nbformat": 4,
 "nbformat_minor": 4
}
