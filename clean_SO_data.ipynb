{
 "cells": [
  {
   "cell_type": "code",
   "execution_count": 39,
   "metadata": {},
   "outputs": [
    {
     "data": {
      "text/plain": [
       "(100000, 5)"
      ]
     },
     "execution_count": 39,
     "metadata": {},
     "output_type": "execute_result"
    }
   ],
   "source": [
    "import pandas as pd\n",
    "import re\n",
    "from multiprocessing import Pool\n",
    "\n",
    "df = pd.read_csv('SO.csv')\n",
    "df = df[['date', 'parent_id', 'score', 'title', 'reply']]\n",
    "df.shape"
   ]
  },
  {
   "cell_type": "code",
   "execution_count": 40,
   "metadata": {},
   "outputs": [],
   "source": [
    "needs_space = re.compile('\\n|&nbsp')\n",
    "no_space = re.compile('<.*?>|\\r|&amp|&gt|&lt')\n",
    "\n",
    "def no_code(text):\n",
    "    '''Remove html, new_line, nbsp from text'''\n",
    "    text = re.sub(needs_space, ' ', text)\n",
    "    text = re.sub(no_space, '', text)\n",
    "    return text\n",
    "\n",
    "def cleaner(series):\n",
    "    series = series.apply(no_code)\n",
    "    return series\n",
    "\n",
    "def fast_clean(df):\n",
    "    names = list(df)\n",
    "    cleaned = []\n",
    "    for name in names:\n",
    "        if name in ('title', 'reply'):\n",
    "            with Pool(8) as p:\n",
    "                seq = [df[name]]\n",
    "                lis = p.map(cleaner, seq)\n",
    "                for s in lis:\n",
    "                    cleaned.append(pd.Series(s))\n",
    "                \n",
    "    return cleaned[0], cleaned[1]"
   ]
  },
  {
   "cell_type": "code",
   "execution_count": 41,
   "metadata": {},
   "outputs": [
    {
     "name": "stdout",
     "output_type": "stream",
     "text": [
      "CPU times: user 169 ms, sys: 535 ms, total: 704 ms\n",
      "Wall time: 3.5 s\n"
     ]
    },
    {
     "data": {
      "text/plain": [
       "(100000, 7)"
      ]
     },
     "execution_count": 41,
     "metadata": {},
     "output_type": "execute_result"
    }
   ],
   "source": [
    "%%time\n",
    "df['c_title'], df['c_reply'] = fast_clean(df)\n",
    "print(df.shape)\n",
    "df.head()"
   ]
  },
  {
   "cell_type": "code",
   "execution_count": 47,
   "metadata": {},
   "outputs": [
    {
     "name": "stdout",
     "output_type": "stream",
     "text": [
      "CPU times: user 102 ms, sys: 0 ns, total: 102 ms\n",
      "Wall time: 101 ms\n"
     ]
    },
    {
     "data": {
      "text/plain": [
       "(50785, 7)"
      ]
     },
     "execution_count": 47,
     "metadata": {},
     "output_type": "execute_result"
    }
   ],
   "source": [
    "%%time\n",
    "# Drop questions and answers longer than 510 characters.\n",
    "df = df.loc[df['c_title'].str.len() < 511]\n",
    "df = df.loc[df['c_reply'].str.len() < 511]\n",
    "\n",
    "# Drop nans and reset index.\n",
    "df = df.dropna()\n",
    "df = df.reset_index(drop=True)\n",
    "df.shape"
   ]
  },
  {
   "cell_type": "code",
   "execution_count": 49,
   "metadata": {},
   "outputs": [],
   "source": [
    "df = df[['score', 'parent_id', 'c_title', 'c_reply']]\n",
    "df.to_csv('SO_clean_50k.csv')"
   ]
  },
  {
   "cell_type": "code",
   "execution_count": null,
   "metadata": {},
   "outputs": [],
   "source": [
    "# def no_code(text):\n",
    "#   '''Cleans code and html tags.'''\n",
    "#   text = re.sub('<pre>.*?</pre>', '', text, flags=re.DOTALL)\n",
    "#   text = re.sub('<code>.*?</code>', '', text, flags=re.DOTALL)\n",
    "#   text = re.sub('<[^>]+>', '', text, flags=re.DOTALL)\n",
    "#   return text.replace(\"\\n\", \"\")"
   ]
  }
 ],
 "metadata": {
  "kernelspec": {
   "display_name": "Python 3",
   "language": "python",
   "name": "python3"
  },
  "language_info": {
   "codemirror_mode": {
    "name": "ipython",
    "version": 3
   },
   "file_extension": ".py",
   "mimetype": "text/x-python",
   "name": "python",
   "nbconvert_exporter": "python",
   "pygments_lexer": "ipython3",
   "version": "3.6.9"
  }
 },
 "nbformat": 4,
 "nbformat_minor": 4
}
