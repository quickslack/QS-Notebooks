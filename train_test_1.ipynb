{
 "cells": [
  {
   "cell_type": "code",
   "execution_count": null,
   "metadata": {},
   "outputs": [],
   "source": [
    "!nvidia-smi"
   ]
  },
  {
   "cell_type": "code",
   "execution_count": null,
   "metadata": {},
   "outputs": [],
   "source": [
    "!git clone https://github.com/microsoft/DialoGPT.git dgpt"
   ]
  },
  {
   "cell_type": "code",
   "execution_count": null,
   "metadata": {},
   "outputs": [],
   "source": [
    "cd dgpt"
   ]
  },
  {
   "cell_type": "code",
   "execution_count": null,
   "metadata": {},
   "outputs": [],
   "source": [
    "%%writefile setup.sh\n",
    "\n",
    "export CUDA_HOME=/usr/local/cuda-10.1\n",
    "git clone https://github.com/NVIDIA/apex\n",
    "# !cd apex && git checkout 4a8c4ac\n",
    "pip install -v --no-cache-dir --global-option=\"--cpp_ext\" --global-option=\"--cuda_ext\" ./apex"
   ]
  },
  {
   "cell_type": "code",
   "execution_count": null,
   "metadata": {},
   "outputs": [],
   "source": [
    "!sh setup.sh"
   ]
  },
  {
   "cell_type": "code",
   "execution_count": null,
   "metadata": {},
   "outputs": [],
   "source": [
    "import time"
   ]
  },
  {
   "cell_type": "code",
   "execution_count": null,
   "metadata": {},
   "outputs": [],
   "source": [
    "# if 'no module named' error, run cells below\n",
    "now = time.time()\n",
    "print(now)\n",
    "!python3 demo.py --data small\n",
    "print(time.time() - now)"
   ]
  },
  {
   "cell_type": "code",
   "execution_count": null,
   "metadata": {},
   "outputs": [],
   "source": [
    "print('done')"
   ]
  },
  {
   "cell_type": "code",
   "execution_count": null,
   "metadata": {},
   "outputs": [],
   "source": [
    "%%writefile requirements.txt\n",
    "\n",
    "backcall==0.1.0\n",
    "boto3==1.9.228\n",
    "botocore==1.12.228\n",
    "chardet==3.0.4\n",
    "decorator==4.4.0\n",
    "docutils==0.15.2\n",
    "idna==2.8\n",
    "ipython==7.8.0\n",
    "ipython-genutils==0.2.0\n",
    "jedi==0.15.1\n",
    "jmespath==0.9.4\n",
    "parso==0.5.1\n",
    "pexpect==4.7.0\n",
    "pickleshare==0.7.5\n",
    "prompt-toolkit==2.0.9\n",
    "ptyprocess==0.6.0\n",
    "pygments==2.4.2\n",
    "python-dateutil==2.8.0\n",
    "pytorch-pretrained-bert==0.6.1\n",
    "regex==2019.8.19\n",
    "requests==2.22.0\n",
    "s3transfer==0.2.1\n",
    "tqdm==4.35.0\n",
    "traitlets==4.3.2\n",
    "urllib3==1.25.3\n",
    "wcwidth==0.1.7\n",
    "flashtext==2.7"
   ]
  },
  {
   "cell_type": "code",
   "execution_count": null,
   "metadata": {},
   "outputs": [],
   "source": [
    "pip install -r requirements.txt"
   ]
  },
  {
   "cell_type": "code",
   "execution_count": null,
   "metadata": {},
   "outputs": [],
   "source": []
  }
 ],
 "metadata": {
  "kernelspec": {
   "display_name": "Python 3",
   "language": "python",
   "name": "python3"
  },
  "language_info": {
   "codemirror_mode": {
    "name": "ipython",
    "version": 3
   },
   "file_extension": ".py",
   "mimetype": "text/x-python",
   "name": "python",
   "nbconvert_exporter": "python",
   "pygments_lexer": "ipython3",
   "version": "3.6.9"
  }
 },
 "nbformat": 4,
 "nbformat_minor": 4
}
