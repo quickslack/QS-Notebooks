{
 "cells": [
  {
   "cell_type": "code",
   "execution_count": null,
   "metadata": {},
   "outputs": [],
   "source": [
    "# This takes hours to download\n",
    "# !wget https://archive.org/download/stackexchange/stackoverflow.com-Posts.7z"
   ]
  },
  {
   "cell_type": "code",
   "execution_count": null,
   "metadata": {},
   "outputs": [],
   "source": [
    "!7z x stackoverflow.com-Posts.7z"
   ]
  },
  {
   "cell_type": "code",
   "execution_count": null,
   "metadata": {},
   "outputs": [],
   "source": [
    "from lxml import etree\n",
    "from tqdm import tqdm\n",
    "\n",
    "# count element for displaying progress bar\n",
    "context = etree.iterparse('Posts.xml')\n",
    "post_count = 0\n",
    "for ev, elem in context:\n",
    "    post_count+=1\n",
    "    elem.clear()\n",
    "    while elem.getprevious() is not None:\n",
    "        del elem.getparent()[0]\n",
    "post_count"
   ]
  },
  {
   "cell_type": "code",
   "execution_count": 5,
   "metadata": {},
   "outputs": [
    {
     "name": "stdout",
     "output_type": "stream",
     "text": [
      "Overwriting dump.py\n"
     ]
    }
   ],
   "source": [
    "%%writefile dump.py\n",
    "import sqlite3\n",
    "from lxml import etree\n",
    "from tqdm import tqdm\n",
    "\n",
    "TABLE_CREATE_STRING = \"\"\"\n",
    "CREATE TABLE IF NOT EXISTS Post(\n",
    "    AcceptedAnswerId INT,\n",
    "    Title TEXT,\n",
    "    Body TEXT,\n",
    "    OwnerUserId INT,\n",
    "    ClosedDate DATETIME,\n",
    "    LastEditorUserId INT,\n",
    "    PostTypeId INT,\n",
    "    AnswerCount INT,\n",
    "    OwnerDisplayName TEXT,\n",
    "    CreationDate DATETIME,\n",
    "    ViewCount INT,\n",
    "    CommunityOwnedDate DATETIME,\n",
    "    LastEditorDisplayName TEXT,\n",
    "    FavoriteCount INT,\n",
    "    Score INT,\n",
    "    Id INT UNIQUE PRIMARY KEY,\n",
    "    Tags TEXT,\n",
    "    LastEditDate INT,\n",
    "    LastActivityDate DATETIME,\n",
    "    ParentId INT,\n",
    "    CommentCount INT\n",
    ")\n",
    "\"\"\"\n",
    "DB_FILE = 'so.db'\n",
    "conn = sqlite3.connect(DB_FILE)\n",
    "conn.execute(TABLE_CREATE_STRING)\n",
    "conn.commit()\n",
    "from lxml import etree\n",
    "from tqdm import tqdm\n",
    "\n",
    "# count element for displaying progress bar\n",
    "context = etree.iterparse('Posts.xml')\n",
    "total = 46947634\n",
    "counter = 0\n",
    "fields = []\n",
    "buffer = []\n",
    "insert_str = '''\n",
    "    INSERT INTO Post (\n",
    "        AcceptedAnswerId,\n",
    "        Title,\n",
    "        Body,\n",
    "        OwnerUserId,\n",
    "        ClosedDate,\n",
    "        LastEditorUserId,\n",
    "        PostTypeId,\n",
    "        AnswerCount,\n",
    "        OwnerDisplayName,\n",
    "        CreationDate,\n",
    "        ViewCount,\n",
    "        CommunityOwnedDate,\n",
    "        LastEditorDisplayName,\n",
    "        FavoriteCount,\n",
    "        Score,\n",
    "        Id,\n",
    "        Tags,\n",
    "        LastEditDate,\n",
    "        LastActivityDate,\n",
    "        ParentId,\n",
    "        CommentCount)\n",
    "        VALUES (?, ?, ?, ?, ?, ?, ?, ?, ?, ?, ?, ?, ?, ?, ?, ?, ?, ?, ?, ?, ?)\n",
    "'''\n",
    "def save_buffer( insert_str, buff, conn):\n",
    "    conn.executemany(insert_str, buff)\n",
    "    conn.commit()\n",
    "for ev, elem in tqdm(context, total=total):\n",
    "    counter+=1\n",
    "\n",
    "    \n",
    "    values = [\n",
    "        elem.get(\"AcceptedAnswerId\"),\n",
    "        elem.get(\"Title\"),\n",
    "        elem.get(\"Body\"),\n",
    "        elem.get(\"OwnerUserId\"),\n",
    "        elem.get(\"ClosedDate\"),\n",
    "        elem.get(\"LastEditorUserId\"),\n",
    "        elem.get(\"PostTypeId\"),\n",
    "        elem.get(\"AnswerCount\"),\n",
    "        elem.get(\"OwnerDisplayName\"),\n",
    "        elem.get(\"CreationDate\"),\n",
    "        elem.get(\"ViewCount\"),\n",
    "        elem.get(\"CommunityOwnedDate\"),\n",
    "        elem.get(\"LastEditorDisplayName\"),\n",
    "        elem.get(\"FavoriteCount\"),\n",
    "        elem.get(\"Score\"),\n",
    "        elem.get(\"Id\"),\n",
    "        elem.get(\"Tags\"),\n",
    "        elem.get(\"LastEditDate\"),\n",
    "        elem.get(\"LastActivityDate\"),\n",
    "        elem.get(\"ParentId\"),\n",
    "        elem.get(\"CommentCount\")\n",
    "    ]\n",
    "    buffer.append(values)\n",
    "    elem.clear()\n",
    "    while elem.getprevious() is not None:\n",
    "        del elem.getparent()[0]\n",
    "    \n",
    "    # save every 100k iterations\n",
    "    if counter%100000==0:\n",
    "        save_buffer(insert_str, buffer, conn)\n",
    "        buffer = []\n",
    "    \n",
    "    \n",
    "save_buffer(insert_str, buffer, conn)\n",
    "conn.close()"
   ]
  },
  {
   "cell_type": "code",
   "execution_count": 6,
   "metadata": {},
   "outputs": [
    {
     "name": "stdout",
     "output_type": "stream",
     "text": [
      "100%|############################| 46947634/46947634 [30:00<00:00, 26077.71it/s]\n"
     ]
    }
   ],
   "source": [
    "!python dump.py"
   ]
  },
  {
   "cell_type": "code",
   "execution_count": null,
   "metadata": {},
   "outputs": [],
   "source": []
  },
  {
   "cell_type": "code",
   "execution_count": null,
   "metadata": {},
   "outputs": [],
   "source": []
  }
 ],
 "metadata": {
  "kernelspec": {
   "display_name": "Python 3",
   "language": "python",
   "name": "python3"
  },
  "language_info": {
   "codemirror_mode": {
    "name": "ipython",
    "version": 3
   },
   "file_extension": ".py",
   "mimetype": "text/x-python",
   "name": "python",
   "nbconvert_exporter": "python",
   "pygments_lexer": "ipython3",
   "version": "3.6.9"
  }
 },
 "nbformat": 4,
 "nbformat_minor": 4
}
